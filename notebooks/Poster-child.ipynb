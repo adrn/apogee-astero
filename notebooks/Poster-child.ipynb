{
 "cells": [
  {
   "cell_type": "markdown",
   "metadata": {
    "colab_type": "text",
    "id": "cCiZ79r0j9Rv"
   },
   "source": [
    "# The poster child\n",
    "\n",
    "## Authors:\n",
    "- **Adrian Price-Whelan** (Flatiron)\n",
    "- **David W. Hogg** (NYU) (MPIA) (Flatiron)\n",
    "\n",
    "## License:\n",
    "Copyright 2020 the authors. **All rights reserved**.\n",
    "\n",
    "## Notes:\n",
    "- ..."
   ]
  },
  {
   "cell_type": "code",
   "execution_count": null,
   "metadata": {
    "colab": {},
    "colab_type": "code",
    "id": "yv48aUWSi08I"
   },
   "outputs": [],
   "source": [
    "import astropy.table as at\n",
    "import astropy.units as u\n",
    "import matplotlib as mpl\n",
    "import matplotlib.pyplot as plt\n",
    "%matplotlib inline\n",
    "import numpy as np"
   ]
  },
  {
   "cell_type": "code",
   "execution_count": null,
   "metadata": {
    "colab": {},
    "colab_type": "code",
    "id": "sxrooUMRjlsK"
   },
   "outputs": [],
   "source": [
    "name = '2M08160493+2858542'\n",
    "visits = at.Table.read(f'{name}-allVisit.fits')\n",
    "photom = at.Table.read(f'{name}-asassn.csv')"
   ]
  },
  {
   "cell_type": "markdown",
   "metadata": {
    "colab_type": "text",
    "id": "ErF--cX4i08S"
   },
   "source": [
    "### RVs:"
   ]
  },
  {
   "cell_type": "code",
   "execution_count": null,
   "metadata": {
    "colab": {
     "base_uri": "https://localhost:8080/",
     "height": 297
    },
    "colab_type": "code",
    "id": "R2dCv7pOi08T",
    "outputId": "ba994ebf-92a0-4891-a27b-f2471f7bb57e"
   },
   "outputs": [],
   "source": [
    "fig, ax = plt.subplots()\n",
    "ax.errorbar(visits['JD'] - visits['JD'].min(), visits['VHELIO'], \n",
    "            yerr=visits['VRELERR'],\n",
    "            marker='o', ls='none')\n",
    "ax.set_xlabel(r'${\\rm BJD} - {\\rm min}({\\rm BJD})$')\n",
    "ax.set_ylabel(f'RV [{u.km/u.s:latex_inline}]')\n",
    "fig.tight_layout()"
   ]
  },
  {
   "cell_type": "markdown",
   "metadata": {
    "colab_type": "text",
    "id": "1KyMSObsi08Y"
   },
   "source": [
    "### Photometry:"
   ]
  },
  {
   "cell_type": "code",
   "execution_count": null,
   "metadata": {
    "colab": {
     "base_uri": "https://localhost:8080/",
     "height": 297
    },
    "colab_type": "code",
    "id": "a4xBeEMOi08d",
    "outputId": "711807d2-5585-44c5-87fe-c3ab6858edf2"
   },
   "outputs": [],
   "source": [
    "fig, ax = plt.subplots()\n",
    "ax.errorbar(photom['hjd'] - photom['hjd'].min(), \n",
    "            photom['flux (mJy)'], \n",
    "            yerr=photom['flux err'],\n",
    "            marker='o', ls='none')\n",
    "ax.set_xlabel(r'${\\rm BJD} - {\\rm min}({\\rm BJD})$')\n",
    "ax.set_ylabel('flux [mJy]')\n",
    "fig.tight_layout()"
   ]
  },
  {
   "cell_type": "code",
   "execution_count": null,
   "metadata": {
    "colab": {
     "base_uri": "https://localhost:8080/",
     "height": 297
    },
    "colab_type": "code",
    "id": "08EXaNm29dER",
    "outputId": "5c771c43-f76b-4c22-d842-1284fc7597c6"
   },
   "outputs": [],
   "source": [
    "fig, ax = plt.subplots()\n",
    "ax.errorbar(photom['hjd'] - photom['hjd'].min(), \n",
    "            photom['mag'], \n",
    "            yerr=photom['mag err'],\n",
    "            marker='o', ls='none')\n",
    "ax.set_xlabel(r'${\\rm BJD} - {\\rm min}({\\rm BJD})$')\n",
    "ax.set_ylabel(r'$V$ (mag)')\n",
    "ax.invert_yaxis()\n",
    "fig.tight_layout()"
   ]
  },
  {
   "cell_type": "code",
   "execution_count": null,
   "metadata": {
    "colab": {},
    "colab_type": "code",
    "id": "tUSRtl6tOWTB"
   },
   "outputs": [],
   "source": [
    "def fit_K_frequencies(f, df, L, Khalf, pts, pys, vts, vys):\n",
    "    \"\"\"\n",
    "    fit a comb of frequencies to both the photometry and the RVs simultaneously\n",
    "  \n",
    "    ## inputs:\n",
    "    - f: central frequency (cycles per day)\n",
    "    - df: large frequency difference\n",
    "    - L: lengthscale for converting flux derivatives into velocities\n",
    "    - pts: photometry times in BJD (perhaps minus offset)\n",
    "    - pys: photometry values; unspecific mag or flux\n",
    "    - vts: radial velocity times in BJD (hopefully consistent with pts)\n",
    "    - vys: radial velocity values\n",
    "    - Khalf: use 2 * Khalf + 1 peaks; Khalf=0 is a pure sinusoid\n",
    "  \n",
    "    ## bugs:\n",
    "    - CRITICAL BUG: Doesn't make use of inverse variances.\n",
    "    - Doesn't account for the fact that photometry is in the log.\n",
    "    \"\"\"\n",
    "    A = get_design_matrix(f, df, L, Khalf, pts, vts)\n",
    "    return np.linalg.solve(np.dot(A.T, A), np.dot(A.T, np.append(pys, vys)))\n",
    "\n",
    "def get_design_matrix(f, df, L, Khalf, pts, vts):\n",
    "    \"\"\"\n",
    "    internal function for fit_K_frequencies()\n",
    "    \"\"\"\n",
    "    vlist = [np.append(np.ones_like(pts), np.zeros_like(vts)),\n",
    "             np.append(np.zeros_like(pts), np.ones_like(vts)), ]\n",
    "    flist = np.arange(f - Khalf * df, f + Khalf * df + 0.5 * df, df)\n",
    "    for tf in flist:\n",
    "        omega = 2. * np.pi * tf\n",
    "        vlist.append([np.append(np.cos(omega * pts),  omega * L * np.sin(omega * vts)),\n",
    "                      np.append(np.sin(omega * pts), -omega * L * np.cos(omega * vts))])\n",
    "    return np.vstack(vlist).T"
   ]
  },
  {
   "cell_type": "code",
   "execution_count": null,
   "metadata": {
    "colab": {},
    "colab_type": "code",
    "id": "afy-w_BkDQ6S"
   },
   "outputs": [],
   "source": [
    "def get_design_matrix_apw(f, df, L, Khalf, t_phot, t_rv):\n",
    "    \"\"\"\n",
    "    Compute the design matrix without loops\n",
    "    \"\"\"\n",
    "    n_phot = len(t_phot)\n",
    "    n_rv = len(t_rv)\n",
    "\n",
    "    M = np.zeros((n_phot + n_rv, 2*(Khalf + 1), 2))\n",
    "    M[:n_phot, 0, 0] = 1.\n",
    "    M[n_phot:, 0, 1] = 1.\n",
    "\n",
    "    omegas = 2 * np.pi * np.arange(f - Khalf * df, \n",
    "                                   f + Khalf * df + 0.5 * df, \n",
    "                                   df)\n",
    "    M[:n_phot, 1:, 0] = np.cos(omegas[None] * t_phot[:, None])\n",
    "    M[:n_phot, 1:, 1] = np.sin(omegas[None] * t_phot[:, None])\n",
    "\n",
    "    M[n_phot:, 1:, 0] =  omegas * L * np.sin(omegas[None] * t_rv[:, None])\n",
    "    M[n_phot:, 1:, 1] = -omegas * L * np.cos(omegas[None] * t_rv[:, None])\n",
    "    \n",
    "    return M.reshape(M.shape[0], -1)"
   ]
  },
  {
   "cell_type": "code",
   "execution_count": null,
   "metadata": {
    "colab": {
     "base_uri": "https://localhost:8080/",
     "height": 51
    },
    "colab_type": "code",
    "id": "8LlCKP5vQISi",
    "outputId": "c8ec21e0-c26c-4541-ebd7-e262fb6eeff8"
   },
   "outputs": [],
   "source": [
    "f = 0.0018 # inverse days\n",
    "df = f / 5.\n",
    "L = 300 # made up units of km, s, d, mJy\n",
    "Khalf = 4\n",
    "ref = np.round(np.median(photom['hjd'])).astype(int)\n",
    "refmag = np.median(photom['mag'])\n",
    "amps = fit_K_frequencies(f, df, L, Khalf,\n",
    "               photom['hjd'] - ref, photom['flux (mJy)'],\n",
    "               visits['JD'] - ref, visits['VHELIO'])\n",
    "print(amps)"
   ]
  },
  {
   "cell_type": "code",
   "execution_count": null,
   "metadata": {},
   "outputs": [],
   "source": [
    "pltpt = np.arange(np.min(photom['hjd']) - ref - 0.25 / f,\n",
    "                  np.max(photom['hjd']) - ref + 0.25 / f, 0.01 / f)\n",
    "pltvt = np.arange(np.min(visits['JD']) - ref - 0.25 / f,\n",
    "                  np.max(visits['JD']) - ref + 0.25 / f, 0.01 / f)\n",
    "M = get_design_matrix(f, df, L, Khalf, pltpt, pltvt)\n",
    "Mapw = get_design_matrix_apw(f, df, L, Khalf, pltpt, pltvt)\n",
    "assert np.allclose(M, Mapw)\n",
    "M.shape, Mapw.shape"
   ]
  },
  {
   "cell_type": "code",
   "execution_count": null,
   "metadata": {},
   "outputs": [],
   "source": [
    "%timeit get_design_matrix(f, df, L, Khalf, pltpt, pltvt)\n",
    "%timeit get_design_matrix_apw(f, df, L, Khalf, pltpt, pltvt)"
   ]
  },
  {
   "cell_type": "markdown",
   "metadata": {},
   "source": [
    "Wow, all that numpy-fu for a factor of 1.5...oh well"
   ]
  },
  {
   "cell_type": "code",
   "execution_count": null,
   "metadata": {
    "colab": {
     "base_uri": "https://localhost:8080/",
     "height": 585
    },
    "colab_type": "code",
    "id": "VLRQEnxMi08g",
    "outputId": "99509ced-1310-470c-ef89-f80c473037ce"
   },
   "outputs": [],
   "source": [
    "pltpt = np.arange(np.min(photom['hjd']) - ref - 0.25 / f,\n",
    "                  np.max(photom['hjd']) - ref + 0.25 / f, 0.01 / f)\n",
    "pltvt = np.arange(np.min(visits['JD']) - ref - 0.25 / f,\n",
    "                  np.max(visits['JD']) - ref + 0.25 / f, 0.01 / f)\n",
    "\n",
    "stuff = np.dot(get_design_matrix_apw(f, df, L, Khalf, pltpt, pltvt), amps)\n",
    "pltpy = stuff[:len(pltpt)]\n",
    "pltvy = stuff[-len(pltvt):]\n",
    "\n",
    "fig, axes = plt.subplots(2, 1, figsize=(8, 8), \n",
    "                         sharex=True)\n",
    "\n",
    "ax = axes[0]\n",
    "ax.errorbar(visits['JD'] - ref, visits['VHELIO'], \n",
    "            yerr=visits['VRELERR'],\n",
    "            marker='o', color='k', ls='none')\n",
    "ax.set_ylabel(f'RV [{u.km/u.s:latex_inline}]')\n",
    "ax.plot(pltvt, pltvy, \"r-\")\n",
    "ax.set_title(name)\n",
    "\n",
    "ax = axes[1]\n",
    "ax.errorbar(photom['hjd'] - ref, \n",
    "            photom['flux (mJy)'], \n",
    "            yerr=photom['flux err'],\n",
    "            marker='o', color='k', ls='none')\n",
    "ax.set_xlabel(r'${\\rm BJD} - ' + str(ref) + '$ [d]')\n",
    "ax.set_ylabel('$V$ [mag]')\n",
    "pltpt = np.arange(np.min(photom['hjd']) - ref - 0.25 / f,\n",
    "                  np.max(photom['hjd']) - ref + 0.25 / f, 0.01 / f)\n",
    "ax.plot(pltpt, pltpy, \"r-\")\n",
    "\n",
    "fig.tight_layout()"
   ]
  },
  {
   "cell_type": "code",
   "execution_count": null,
   "metadata": {
    "colab": {},
    "colab_type": "code",
    "id": "wwMc49tsNJjg"
   },
   "outputs": [],
   "source": []
  }
 ],
 "metadata": {
  "colab": {
   "collapsed_sections": [],
   "name": "Poster-child-demo.ipynb",
   "provenance": []
  },
  "kernelspec": {
   "display_name": "Python [conda env:hq]",
   "language": "python",
   "name": "conda-env-hq-py"
  },
  "language_info": {
   "codemirror_mode": {
    "name": "ipython",
    "version": 3
   },
   "file_extension": ".py",
   "mimetype": "text/x-python",
   "name": "python",
   "nbconvert_exporter": "python",
   "pygments_lexer": "ipython3",
   "version": "3.7.4"
  },
  "toc": {
   "base_numbering": 1,
   "nav_menu": {},
   "number_sections": true,
   "sideBar": true,
   "skip_h1_title": false,
   "title_cell": "Table of Contents",
   "title_sidebar": "Contents",
   "toc_cell": false,
   "toc_position": {},
   "toc_section_display": true,
   "toc_window_display": false
  }
 },
 "nbformat": 4,
 "nbformat_minor": 1
}
